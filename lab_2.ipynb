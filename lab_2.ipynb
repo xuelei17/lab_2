{
  "nbformat": 4,
  "nbformat_minor": 0,
  "metadata": {
    "colab": {
      "name": "lab_2",
      "provenance": [],
      "authorship_tag": "ABX9TyPnscMC+vWGqaeHkC4HVqQ0",
      "include_colab_link": true
    },
    "kernelspec": {
      "name": "python3",
      "display_name": "Python 3"
    }
  },
  "cells": [
    {
      "cell_type": "markdown",
      "metadata": {
        "id": "view-in-github",
        "colab_type": "text"
      },
      "source": [
        "<a href=\"https://colab.research.google.com/github/xuelei17/lab_2/blob/master/lab_2.ipynb\" target=\"_parent\"><img src=\"https://colab.research.google.com/assets/colab-badge.svg\" alt=\"Open In Colab\"/></a>"
      ]
    },
    {
      "cell_type": "code",
      "metadata": {
        "id": "0T6vY2xkj8Kt",
        "colab_type": "code",
        "colab": {}
      },
      "source": [
        "\"\"\"\n",
        "Name: Xuelei Zhang\n",
        "Version og Python: 3.4\n",
        "Date created: 9.4\n",
        "The first script is about classifying temperature based on different conditions. The second script is a chatbot. Both used if, elif, else statments.\n",
        "\"\"\"\n"
      ],
      "execution_count": null,
      "outputs": []
    },
    {
      "cell_type": "code",
      "metadata": {
        "id": "6KzNuOi0k5RK",
        "colab_type": "code",
        "colab": {}
      },
      "source": [
        "\n",
        "\n",
        "\n",
        "def feelTemp(n):   # define a function called feelTemp unit is in Fahrenheit\n",
        "  n=int(input(\"type your temperature:\"))  # a input function capture users' input temperature\n",
        "\n",
        "# when temperature is greater or equal than 100 print It is hot\n",
        "  if n >= 100:\n",
        "    print(\"It is hot.\")\n",
        "\n",
        "# when temperature is greater/equal than 70 but less than 100 print It is warm\n",
        "  elif 70<= n<=100:\n",
        "    print(\"It is warm.\")\n",
        "\n",
        "# when temperature is greater/equal than 32 but less than 70 orint It is cool\n",
        "  elif 32<= n <=70: \n",
        "    print(\"It is cool.\")  \n",
        "\n",
        "# when temperature is smaller than 32 print it is cold \n",
        "  else:\n",
        "    print(\"It is cold.\")\n",
        "feelTemp(n)\n"
      ],
      "execution_count": null,
      "outputs": []
    },
    {
      "cell_type": "code",
      "metadata": {
        "id": "wuSAOJQTqlzY",
        "colab_type": "code",
        "colab": {}
      },
      "source": [
        "# define a function called name\n",
        "def name(n):\n",
        "    n= str(input(\"Hi, what is your name?\"))    # use input to get a string from user\n",
        "# if the input name is Shadrock\n",
        "    if n==\"Shadrock\":\n",
        "# then print string is hey shadrock\n",
        "      print(\"Hey, Shadrock!\")\n",
        "# if the input name is Shashank\n",
        "    elif n==\"Shashank\":\n",
        "# then print string is hi shashank\n",
        "      print(\"Hi,Shashank!\")\n",
        "# if neither print I don't believe we've met yet\n",
        "    else:\n",
        "      print(\"Hi\",n,\".\",\"I don't believe we've met yet.\")\n",
        "name(n)"
      ],
      "execution_count": null,
      "outputs": []
    }
  ]
}